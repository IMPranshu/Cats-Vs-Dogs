{
 "cells": [
  {
   "cell_type": "code",
   "execution_count": 7,
   "id": "4a84d91e",
   "metadata": {
    "ExecuteTime": {
     "end_time": "2021-06-03T06:26:29.221408Z",
     "start_time": "2021-06-03T06:26:29.209412Z"
    }
   },
   "outputs": [],
   "source": [
    "train_dir = r'C:\\Users\\Specter\\Desktop\\resources\\train'"
   ]
  },
  {
   "cell_type": "code",
   "execution_count": 2,
   "id": "3a7d6f68",
   "metadata": {
    "ExecuteTime": {
     "end_time": "2021-06-03T06:13:51.646065Z",
     "start_time": "2021-06-03T06:13:51.632090Z"
    }
   },
   "outputs": [],
   "source": [
    "validation_fir = r'C:\\Users\\Specter\\Desktop\\resources\\\\validation'"
   ]
  },
  {
   "cell_type": "code",
   "execution_count": 3,
   "id": "fc667492",
   "metadata": {
    "ExecuteTime": {
     "end_time": "2021-06-03T06:14:12.716561Z",
     "start_time": "2021-06-03T06:14:12.712572Z"
    }
   },
   "outputs": [],
   "source": [
    "test_dir = r'C:\\Users\\Specter\\Desktop\\resources\\\\test'"
   ]
  },
  {
   "cell_type": "code",
   "execution_count": 6,
   "id": "09a1cd61",
   "metadata": {
    "ExecuteTime": {
     "end_time": "2021-06-03T06:21:11.686436Z",
     "start_time": "2021-06-03T06:21:06.247940Z"
    }
   },
   "outputs": [],
   "source": [
    "from tensorflow.keras.preprocessing.image import ImageDataGenerator"
   ]
  },
  {
   "cell_type": "code",
   "execution_count": 8,
   "id": "bf42ac39",
   "metadata": {
    "ExecuteTime": {
     "end_time": "2021-06-03T06:28:28.803404Z",
     "start_time": "2021-06-03T06:28:28.435046Z"
    }
   },
   "outputs": [],
   "source": [
    "import numpy as np\n",
    "import pandas as pd\n",
    "%matplotlib inline\n",
    "import matplotlib as mpl\n",
    "import matplotlib.pyplot as plt\n",
    "import os\n",
    "import tensorflow as tf\n",
    "from tensorflow import keras\n",
    "train_dir = r'C:/Users/Specter/Desktop/resources/train' "
   ]
  },
  {
   "cell_type": "code",
   "execution_count": 9,
   "id": "41d964b8",
   "metadata": {
    "ExecuteTime": {
     "end_time": "2021-06-03T06:30:50.220630Z",
     "start_time": "2021-06-03T06:30:50.207642Z"
    }
   },
   "outputs": [],
   "source": [
    "\n",
    "validation_dir = r'C:/Users/Specter/Desktop/resources/validation' \n",
    "test_dir = r'C:/Users/Specter/Desktop/resources/test' \n"
   ]
  },
  {
   "cell_type": "code",
   "execution_count": 10,
   "id": "54662e05",
   "metadata": {
    "ExecuteTime": {
     "end_time": "2021-06-03T06:39:31.885660Z",
     "start_time": "2021-06-03T06:39:31.646244Z"
    }
   },
   "outputs": [
    {
     "name": "stdout",
     "output_type": "stream",
     "text": [
      "Found 2000 images belonging to 2 classes.\n",
      "Found 1000 images belonging to 2 classes.\n"
     ]
    }
   ],
   "source": [
    "train_datagen = ImageDataGenerator(rescale = 1./255)\n",
    "test_datagen = ImageDataGenerator(rescale = 1./255)\n",
    "train_generator =  train_datagen.flow_from_directory(train_dir,target_size = (150,150), batch_size =20, class_mode = 'binary')\n",
    "validation_generator =  test_datagen.flow_from_directory(validation_dir,target_size = (150,150), batch_size =20, class_mode = 'binary')"
   ]
  },
  {
   "cell_type": "code",
   "execution_count": 14,
   "id": "5795e3b1",
   "metadata": {
    "ExecuteTime": {
     "end_time": "2021-06-03T06:58:23.181109Z",
     "start_time": "2021-06-03T06:58:22.810310Z"
    }
   },
   "outputs": [
    {
     "name": "stdout",
     "output_type": "stream",
     "text": [
      "Model: \"sequential\"\n",
      "_________________________________________________________________\n",
      "Layer (type)                 Output Shape              Param #   \n",
      "=================================================================\n",
      "conv2d (Conv2D)              (None, 148, 148, 32)      896       \n",
      "_________________________________________________________________\n",
      "max_pooling2d (MaxPooling2D) (None, 74, 74, 32)        0         \n",
      "_________________________________________________________________\n",
      "conv2d_1 (Conv2D)            (None, 72, 72, 64)        18496     \n",
      "_________________________________________________________________\n",
      "max_pooling2d_1 (MaxPooling2 (None, 36, 36, 64)        0         \n",
      "_________________________________________________________________\n",
      "conv2d_2 (Conv2D)            (None, 34, 34, 128)       73856     \n",
      "_________________________________________________________________\n",
      "max_pooling2d_2 (MaxPooling2 (None, 17, 17, 128)       0         \n",
      "_________________________________________________________________\n",
      "conv2d_3 (Conv2D)            (None, 15, 15, 128)       147584    \n",
      "_________________________________________________________________\n",
      "max_pooling2d_3 (MaxPooling2 (None, 7, 7, 128)         0         \n",
      "_________________________________________________________________\n",
      "flatten (Flatten)            (None, 6272)              0         \n",
      "_________________________________________________________________\n",
      "dense (Dense)                (None, 512)               3211776   \n",
      "_________________________________________________________________\n",
      "dense_1 (Dense)              (None, 1)                 513       \n",
      "=================================================================\n",
      "Total params: 3,453,121\n",
      "Trainable params: 3,453,121\n",
      "Non-trainable params: 0\n",
      "_________________________________________________________________\n"
     ]
    }
   ],
   "source": [
    "from tensorflow.keras import layers\n",
    "from tensorflow.keras import models\n",
    "model = keras.models.Sequential()\n",
    "model.add(keras.layers.Conv2D(filters =32, kernel_size = (3,3), activation = 'relu', input_shape=(150,150,3)))\n",
    "model.add(keras.layers.MaxPooling2D(2,2))\n",
    "model.add(keras.layers.Conv2D(filters =64, kernel_size = (3,3), activation = 'relu', input_shape=(150,150,3)))\n",
    "model.add(keras.layers.MaxPooling2D(2,2))\n",
    "model.add(keras.layers.Conv2D(filters =128, kernel_size = (3,3), activation = 'relu', input_shape=(150,150,3)))\n",
    "model.add(keras.layers.MaxPooling2D(2,2))\n",
    "model.add(keras.layers.Conv2D(filters =128, kernel_size = (3,3), activation = 'relu', input_shape=(150,150,3)))\n",
    "model.add(keras.layers.MaxPooling2D(2,2))\n",
    "model.add(keras.layers.Flatten())\n",
    "model.add(keras.layers.Dense(512,activation = 'relu'))\n",
    "model.add(keras.layers.Dense(1,activation = 'sigmoid'))\n",
    "model.summary()"
   ]
  },
  {
   "cell_type": "code",
   "execution_count": 16,
   "id": "72e0ea2e",
   "metadata": {
    "ExecuteTime": {
     "end_time": "2021-06-03T06:59:17.303171Z",
     "start_time": "2021-06-03T06:59:17.030438Z"
    }
   },
   "outputs": [
    {
     "name": "stdout",
     "output_type": "stream",
     "text": [
      "Found 2000 images belonging to 2 classes.\n",
      "Found 1000 images belonging to 2 classes.\n",
      "Model: \"sequential_2\"\n",
      "_________________________________________________________________\n",
      "Layer (type)                 Output Shape              Param #   \n",
      "=================================================================\n",
      "conv2d_8 (Conv2D)            (None, 148, 148, 32)      896       \n",
      "_________________________________________________________________\n",
      "max_pooling2d_8 (MaxPooling2 (None, 74, 74, 32)        0         \n",
      "_________________________________________________________________\n",
      "conv2d_9 (Conv2D)            (None, 72, 72, 64)        18496     \n",
      "_________________________________________________________________\n",
      "max_pooling2d_9 (MaxPooling2 (None, 36, 36, 64)        0         \n",
      "_________________________________________________________________\n",
      "conv2d_10 (Conv2D)           (None, 34, 34, 128)       73856     \n",
      "_________________________________________________________________\n",
      "max_pooling2d_10 (MaxPooling (None, 17, 17, 128)       0         \n",
      "_________________________________________________________________\n",
      "conv2d_11 (Conv2D)           (None, 15, 15, 128)       147584    \n",
      "_________________________________________________________________\n",
      "max_pooling2d_11 (MaxPooling (None, 7, 7, 128)         0         \n",
      "_________________________________________________________________\n",
      "flatten_2 (Flatten)          (None, 6272)              0         \n",
      "_________________________________________________________________\n",
      "dense_4 (Dense)              (None, 512)               3211776   \n",
      "_________________________________________________________________\n",
      "dense_5 (Dense)              (None, 1)                 513       \n",
      "=================================================================\n",
      "Total params: 3,453,121\n",
      "Trainable params: 3,453,121\n",
      "Non-trainable params: 0\n",
      "_________________________________________________________________\n"
     ]
    }
   ],
   "source": [
    "import numpy as np\n",
    "import pandas as pd\n",
    "%matplotlib inline\n",
    "import matplotlib as mpl\n",
    "import matplotlib.pyplot as plt\n",
    "import os\n",
    "import tensorflow as tf\n",
    "from tensorflow import keras\n",
    "train_dir = r'C:/Users/Specter/Desktop/resources/train' \n",
    "validation_dir = r'C:/Users/Specter/Desktop/resources/validation' \n",
    "test_dir = r'C:/Users/Specter/Desktop/resources/test' \n",
    "from tensorflow.keras.preprocessing.image import ImageDataGenerator\n",
    "train_datagen = ImageDataGenerator(rescale = 1./255)\n",
    "test_datagen = ImageDataGenerator(rescale = 1./255)\n",
    "train_generator =  train_datagen.flow_from_directory(train_dir,target_size = (150,150), batch_size =20, class_mode = 'binary')\n",
    "validation_generator =  test_datagen.flow_from_directory(validation_dir,target_size = (150,150), batch_size =20, class_mode = 'binary')\n",
    "from tensorflow.keras import layers\n",
    "from tensorflow.keras import models\n",
    "model = keras.models.Sequential()\n",
    "model.add(keras.layers.Conv2D(filters =32, kernel_size = (3,3), activation = 'relu', input_shape=(150,150,3)))\n",
    "model.add(keras.layers.MaxPooling2D(2,2))\n",
    "model.add(keras.layers.Conv2D(filters =64, kernel_size = (3,3), activation = 'relu', input_shape=(150,150,3)))\n",
    "model.add(keras.layers.MaxPooling2D(2,2))\n",
    "model.add(keras.layers.Conv2D(filters =128, kernel_size = (3,3), activation = 'relu', input_shape=(150,150,3)))\n",
    "model.add(keras.layers.MaxPooling2D(2,2))\n",
    "model.add(keras.layers.Conv2D(filters =128, kernel_size = (3,3), activation = 'relu', input_shape=(150,150,3)))\n",
    "model.add(keras.layers.MaxPooling2D(2,2))\n",
    "model.add(keras.layers.Flatten())\n",
    "model.add(keras.layers.Dense(512,activation = 'relu'))\n",
    "model.add(keras.layers.Dense(1,activation = 'sigmoid'))\n",
    "model.summary()"
   ]
  },
  {
   "cell_type": "code",
   "execution_count": 17,
   "id": "4643c946",
   "metadata": {
    "ExecuteTime": {
     "end_time": "2021-06-03T07:34:14.314642Z",
     "start_time": "2021-06-03T07:31:29.459943Z"
    }
   },
   "outputs": [
    {
     "name": "stdout",
     "output_type": "stream",
     "text": [
      "WARNING:tensorflow:From <ipython-input-17-fd91ba7ad416>:3: Model.fit_generator (from tensorflow.python.keras.engine.training) is deprecated and will be removed in a future version.\n",
      "Instructions for updating:\n",
      "Please use Model.fit, which supports generators.\n",
      "Epoch 1/3\n",
      "100/100 [==============================] - 54s 538ms/step - loss: 0.6813 - acc: 0.5495 - val_loss: 0.6659 - val_acc: 0.5980\n",
      "Epoch 2/3\n",
      "100/100 [==============================] - 54s 544ms/step - loss: 0.6345 - acc: 0.6375 - val_loss: 0.6526 - val_acc: 0.6200\n",
      "Epoch 3/3\n",
      "100/100 [==============================] - 54s 535ms/step - loss: 0.5842 - acc: 0.6915 - val_loss: 0.6225 - val_acc: 0.6480\n"
     ]
    }
   ],
   "source": [
    "from tensorflow.keras import optimizers\n",
    "model.compile(loss= 'binary_crossentropy', optimizer = optimizers.RMSprop(lr=1e-4), metrics = ['acc'])\n",
    "history = model.fit_generator(train_generator, steps_per_epoch =100, epochs = 3, validation_data = validation_generator, validation_steps = 50 )"
   ]
  },
  {
   "cell_type": "code",
   "execution_count": 18,
   "id": "82bbbd41",
   "metadata": {
    "ExecuteTime": {
     "end_time": "2021-06-03T07:40:03.528980Z",
     "start_time": "2021-06-03T07:37:23.852545Z"
    }
   },
   "outputs": [
    {
     "name": "stdout",
     "output_type": "stream",
     "text": [
      "Epoch 1/3\n",
      "100/100 [==============================] - 49s 491ms/step - loss: 0.5595 - acc: 0.7075 - val_loss: 0.6040 - val_acc: 0.6800\n",
      "Epoch 2/3\n",
      "100/100 [==============================] - 55s 550ms/step - loss: 0.5349 - acc: 0.7285 - val_loss: 0.5946 - val_acc: 0.6640\n",
      "Epoch 3/3\n",
      "100/100 [==============================] - 54s 539ms/step - loss: 0.5059 - acc: 0.7580 - val_loss: 0.6449 - val_acc: 0.6480\n"
     ]
    }
   ],
   "source": [
    "history = model.fit_generator(train_generator, steps_per_epoch =100, epochs = 3, validation_data = validation_generator, validation_steps = 50 )"
   ]
  },
  {
   "cell_type": "code",
   "execution_count": 19,
   "id": "1ad42367",
   "metadata": {
    "ExecuteTime": {
     "end_time": "2021-06-03T07:42:48.049065Z",
     "start_time": "2021-06-03T07:40:03.531972Z"
    }
   },
   "outputs": [
    {
     "name": "stdout",
     "output_type": "stream",
     "text": [
      "Epoch 1/3\n",
      "100/100 [==============================] - 54s 539ms/step - loss: 0.4735 - acc: 0.7820 - val_loss: 0.6643 - val_acc: 0.6460\n",
      "Epoch 2/3\n",
      "100/100 [==============================] - 52s 521ms/step - loss: 0.4533 - acc: 0.7835 - val_loss: 0.5622 - val_acc: 0.7100\n",
      "Epoch 3/3\n",
      "100/100 [==============================] - 57s 567ms/step - loss: 0.4309 - acc: 0.8015 - val_loss: 0.5684 - val_acc: 0.7110\n"
     ]
    }
   ],
   "source": [
    "history = model.fit_generator(train_generator, steps_per_epoch =100, epochs = 3, validation_data = validation_generator, validation_steps = 50 )"
   ]
  },
  {
   "cell_type": "code",
   "execution_count": 20,
   "id": "213a18ee",
   "metadata": {
    "ExecuteTime": {
     "end_time": "2021-06-03T07:45:27.795721Z",
     "start_time": "2021-06-03T07:42:48.052055Z"
    }
   },
   "outputs": [
    {
     "name": "stdout",
     "output_type": "stream",
     "text": [
      "Epoch 1/3\n",
      "100/100 [==============================] - 52s 523ms/step - loss: 0.4083 - acc: 0.8100 - val_loss: 0.6921 - val_acc: 0.6510\n",
      "Epoch 2/3\n",
      "100/100 [==============================] - 50s 500ms/step - loss: 0.3898 - acc: 0.8275 - val_loss: 0.5674 - val_acc: 0.7100\n",
      "Epoch 3/3\n",
      "100/100 [==============================] - 56s 557ms/step - loss: 0.3594 - acc: 0.8455 - val_loss: 0.5794 - val_acc: 0.7210\n"
     ]
    }
   ],
   "source": [
    "history = model.fit_generator(train_generator, steps_per_epoch =100, epochs = 3, validation_data = validation_generator, validation_steps = 50 )"
   ]
  },
  {
   "cell_type": "code",
   "execution_count": 21,
   "id": "d18b37cf",
   "metadata": {
    "ExecuteTime": {
     "end_time": "2021-06-03T07:48:05.387246Z",
     "start_time": "2021-06-03T07:45:27.797720Z"
    }
   },
   "outputs": [
    {
     "name": "stdout",
     "output_type": "stream",
     "text": [
      "Epoch 1/3\n",
      "100/100 [==============================] - 52s 516ms/step - loss: 0.3361 - acc: 0.8500 - val_loss: 0.5440 - val_acc: 0.7370\n",
      "Epoch 2/3\n",
      "100/100 [==============================] - 52s 518ms/step - loss: 0.3144 - acc: 0.8675 - val_loss: 0.6178 - val_acc: 0.7330\n",
      "Epoch 3/3\n",
      "100/100 [==============================] - 52s 524ms/step - loss: 0.2893 - acc: 0.8755 - val_loss: 0.5669 - val_acc: 0.7230\n"
     ]
    }
   ],
   "source": [
    "history = model.fit_generator(train_generator, steps_per_epoch =100, epochs = 3, validation_data = validation_generator, validation_steps = 50 )"
   ]
  },
  {
   "cell_type": "code",
   "execution_count": 22,
   "id": "d5109f67",
   "metadata": {
    "ExecuteTime": {
     "end_time": "2021-06-03T07:51:04.272967Z",
     "start_time": "2021-06-03T07:51:04.174736Z"
    }
   },
   "outputs": [],
   "source": [
    "model.save('model.h5')\n",
    "from tensorflow.keras import backend as K\n",
    "K.clear_session()\n",
    "del model"
   ]
  },
  {
   "cell_type": "code",
   "execution_count": 32,
   "id": "2abbf207",
   "metadata": {
    "ExecuteTime": {
     "end_time": "2021-06-03T08:45:11.743004Z",
     "start_time": "2021-06-03T08:45:11.567197Z"
    }
   },
   "outputs": [
    {
     "name": "stdout",
     "output_type": "stream",
     "text": [
      "Found 2000 images belonging to 2 classes.\n",
      "Found 1000 images belonging to 2 classes.\n"
     ]
    }
   ],
   "source": [
    "train_datagen = ImageDataGenerator(rescale = 1./255, rotation_range = 40, width_shift_range = 0.2, height_shift_range = 0.2, shear_range = 0.2, zoom_range = 0.2, horizontal_flip = True)\n",
    "test_datagen = ImageDataGenerator(rescale = 1./255)\n",
    "train_generator =  train_datagen.flow_from_directory(train_dir,target_size = (150,150), batch_size =20, class_mode = 'binary')\n",
    "validation_generator =  test_datagen.flow_from_directory(validation_dir,target_size = (150,150), batch_size =20, class_mode = 'binary')\n"
   ]
  },
  {
   "cell_type": "code",
   "execution_count": 33,
   "id": "8ed2deba",
   "metadata": {
    "ExecuteTime": {
     "end_time": "2021-06-03T09:36:56.365746Z",
     "start_time": "2021-06-03T08:45:14.159855Z"
    }
   },
   "outputs": [
    {
     "name": "stdout",
     "output_type": "stream",
     "text": [
      "Model: \"sequential\"\n",
      "_________________________________________________________________\n",
      "Layer (type)                 Output Shape              Param #   \n",
      "=================================================================\n",
      "conv2d (Conv2D)              (None, 148, 148, 32)      896       \n",
      "_________________________________________________________________\n",
      "max_pooling2d (MaxPooling2D) (None, 74, 74, 32)        0         \n",
      "_________________________________________________________________\n",
      "conv2d_1 (Conv2D)            (None, 72, 72, 64)        18496     \n",
      "_________________________________________________________________\n",
      "max_pooling2d_1 (MaxPooling2 (None, 36, 36, 64)        0         \n",
      "_________________________________________________________________\n",
      "conv2d_2 (Conv2D)            (None, 34, 34, 128)       73856     \n",
      "_________________________________________________________________\n",
      "max_pooling2d_2 (MaxPooling2 (None, 17, 17, 128)       0         \n",
      "_________________________________________________________________\n",
      "conv2d_3 (Conv2D)            (None, 15, 15, 128)       147584    \n",
      "_________________________________________________________________\n",
      "max_pooling2d_3 (MaxPooling2 (None, 7, 7, 128)         0         \n",
      "_________________________________________________________________\n",
      "flatten (Flatten)            (None, 6272)              0         \n",
      "_________________________________________________________________\n",
      "dropout (Dropout)            (None, 6272)              0         \n",
      "_________________________________________________________________\n",
      "dense (Dense)                (None, 512)               3211776   \n",
      "_________________________________________________________________\n",
      "dense_1 (Dense)              (None, 1)                 513       \n",
      "=================================================================\n",
      "Total params: 3,453,121\n",
      "Trainable params: 3,453,121\n",
      "Non-trainable params: 0\n",
      "_________________________________________________________________\n",
      "Epoch 1/100\n",
      "100/100 [==============================] - 51s 507ms/step - loss: 0.6947 - acc: 0.5160 - val_loss: 0.6836 - val_acc: 0.5520\n",
      "Epoch 2/100\n",
      "100/100 [==============================] - 52s 524ms/step - loss: 0.6841 - acc: 0.5570 - val_loss: 0.6733 - val_acc: 0.5480\n",
      "Epoch 3/100\n",
      "100/100 [==============================] - 50s 501ms/step - loss: 0.6764 - acc: 0.5680 - val_loss: 0.6565 - val_acc: 0.5840\n",
      "Epoch 4/100\n",
      "100/100 [==============================] - 50s 503ms/step - loss: 0.6682 - acc: 0.5815 - val_loss: 0.6448 - val_acc: 0.6070\n",
      "Epoch 5/100\n",
      "100/100 [==============================] - 51s 508ms/step - loss: 0.6569 - acc: 0.6040 - val_loss: 0.6369 - val_acc: 0.6450\n",
      "Epoch 6/100\n",
      "100/100 [==============================] - 51s 506ms/step - loss: 0.6379 - acc: 0.6195 - val_loss: 0.6174 - val_acc: 0.6490\n",
      "Epoch 7/100\n",
      "100/100 [==============================] - 50s 505ms/step - loss: 0.6244 - acc: 0.6445 - val_loss: 0.6190 - val_acc: 0.6410\n",
      "Epoch 8/100\n",
      "100/100 [==============================] - 50s 502ms/step - loss: 0.6121 - acc: 0.6585 - val_loss: 0.5768 - val_acc: 0.7110\n",
      "Epoch 9/100\n",
      "100/100 [==============================] - 50s 502ms/step - loss: 0.6067 - acc: 0.6720 - val_loss: 0.5698 - val_acc: 0.7020\n",
      "Epoch 10/100\n",
      "100/100 [==============================] - 50s 501ms/step - loss: 0.6018 - acc: 0.6665 - val_loss: 0.5726 - val_acc: 0.7010\n",
      "Epoch 11/100\n",
      "100/100 [==============================] - 50s 505ms/step - loss: 0.5952 - acc: 0.6745 - val_loss: 0.6174 - val_acc: 0.6730\n",
      "Epoch 12/100\n",
      "100/100 [==============================] - 50s 501ms/step - loss: 0.5865 - acc: 0.6800 - val_loss: 0.5916 - val_acc: 0.6640\n",
      "Epoch 13/100\n",
      "100/100 [==============================] - 50s 502ms/step - loss: 0.5841 - acc: 0.6875 - val_loss: 0.5708 - val_acc: 0.6850\n",
      "Epoch 14/100\n",
      "100/100 [==============================] - 50s 499ms/step - loss: 0.5783 - acc: 0.6920 - val_loss: 0.6157 - val_acc: 0.6770\n",
      "Epoch 15/100\n",
      "100/100 [==============================] - 50s 500ms/step - loss: 0.5762 - acc: 0.6970 - val_loss: 0.5437 - val_acc: 0.7200\n",
      "Epoch 16/100\n",
      "100/100 [==============================] - 50s 501ms/step - loss: 0.5749 - acc: 0.6995 - val_loss: 0.5530 - val_acc: 0.7150\n",
      "Epoch 17/100\n",
      "100/100 [==============================] - 50s 504ms/step - loss: 0.5732 - acc: 0.7140 - val_loss: 0.5382 - val_acc: 0.7330\n",
      "Epoch 18/100\n",
      "100/100 [==============================] - 50s 503ms/step - loss: 0.5616 - acc: 0.7070 - val_loss: 0.5264 - val_acc: 0.7340\n",
      "Epoch 19/100\n",
      "100/100 [==============================] - 50s 502ms/step - loss: 0.5664 - acc: 0.7160 - val_loss: 0.5482 - val_acc: 0.7230\n",
      "Epoch 20/100\n",
      "100/100 [==============================] - 50s 500ms/step - loss: 0.5473 - acc: 0.7180 - val_loss: 0.5219 - val_acc: 0.7380\n",
      "Epoch 21/100\n",
      "100/100 [==============================] - 50s 504ms/step - loss: 0.5554 - acc: 0.7125 - val_loss: 0.5686 - val_acc: 0.7030\n",
      "Epoch 22/100\n",
      "100/100 [==============================] - 50s 501ms/step - loss: 0.5463 - acc: 0.7130 - val_loss: 0.5262 - val_acc: 0.7280\n",
      "Epoch 23/100\n",
      "100/100 [==============================] - 50s 503ms/step - loss: 0.5487 - acc: 0.7090 - val_loss: 0.5575 - val_acc: 0.7160\n",
      "Epoch 24/100\n",
      "100/100 [==============================] - 51s 506ms/step - loss: 0.5509 - acc: 0.7175 - val_loss: 0.5383 - val_acc: 0.7150\n",
      "Epoch 25/100\n",
      "100/100 [==============================] - 50s 502ms/step - loss: 0.5382 - acc: 0.7245 - val_loss: 0.5211 - val_acc: 0.7470\n",
      "Epoch 26/100\n",
      "100/100 [==============================] - 50s 501ms/step - loss: 0.5356 - acc: 0.7290 - val_loss: 0.5356 - val_acc: 0.7350\n",
      "Epoch 27/100\n",
      "100/100 [==============================] - 50s 501ms/step - loss: 0.5407 - acc: 0.7250 - val_loss: 0.5646 - val_acc: 0.7100\n",
      "Epoch 28/100\n",
      "100/100 [==============================] - 50s 500ms/step - loss: 0.5258 - acc: 0.7495 - val_loss: 0.5800 - val_acc: 0.7070\n",
      "Epoch 29/100\n",
      "100/100 [==============================] - 50s 502ms/step - loss: 0.5353 - acc: 0.7360 - val_loss: 0.5140 - val_acc: 0.7260\n",
      "Epoch 30/100\n",
      "100/100 [==============================] - 50s 503ms/step - loss: 0.5271 - acc: 0.7290 - val_loss: 0.4846 - val_acc: 0.7590\n",
      "Epoch 31/100\n",
      "100/100 [==============================] - 50s 500ms/step - loss: 0.5236 - acc: 0.7415 - val_loss: 0.5578 - val_acc: 0.7260\n",
      "Epoch 32/100\n",
      "100/100 [==============================] - 50s 500ms/step - loss: 0.5290 - acc: 0.7365 - val_loss: 0.4918 - val_acc: 0.7570\n",
      "Epoch 33/100\n",
      "100/100 [==============================] - 50s 500ms/step - loss: 0.5090 - acc: 0.7450 - val_loss: 0.4995 - val_acc: 0.7490\n",
      "Epoch 34/100\n",
      "100/100 [==============================] - 50s 501ms/step - loss: 0.5204 - acc: 0.7400 - val_loss: 0.5075 - val_acc: 0.7490\n",
      "Epoch 35/100\n",
      "100/100 [==============================] - 50s 503ms/step - loss: 0.5119 - acc: 0.7535 - val_loss: 0.4776 - val_acc: 0.7700\n",
      "Epoch 36/100\n",
      "100/100 [==============================] - 50s 502ms/step - loss: 0.5112 - acc: 0.7520 - val_loss: 0.4884 - val_acc: 0.7650\n",
      "Epoch 37/100\n",
      "100/100 [==============================] - 50s 502ms/step - loss: 0.5199 - acc: 0.7510 - val_loss: 0.4785 - val_acc: 0.7700\n",
      "Epoch 38/100\n",
      "100/100 [==============================] - 50s 502ms/step - loss: 0.5038 - acc: 0.7485 - val_loss: 0.4754 - val_acc: 0.7650\n",
      "Epoch 39/100\n",
      "100/100 [==============================] - 50s 500ms/step - loss: 0.4950 - acc: 0.7575 - val_loss: 0.4860 - val_acc: 0.7500\n",
      "Epoch 40/100\n",
      "100/100 [==============================] - 50s 502ms/step - loss: 0.4965 - acc: 0.7520 - val_loss: 0.4959 - val_acc: 0.7620\n",
      "Epoch 41/100\n",
      "100/100 [==============================] - 50s 505ms/step - loss: 0.4962 - acc: 0.7630 - val_loss: 0.4663 - val_acc: 0.7720\n",
      "Epoch 42/100\n",
      "100/100 [==============================] - 50s 504ms/step - loss: 0.5013 - acc: 0.7660 - val_loss: 0.4697 - val_acc: 0.7620\n",
      "Epoch 43/100\n",
      "100/100 [==============================] - 50s 501ms/step - loss: 0.4945 - acc: 0.7595 - val_loss: 0.5190 - val_acc: 0.7520\n",
      "Epoch 44/100\n",
      "100/100 [==============================] - 50s 501ms/step - loss: 0.4886 - acc: 0.7675 - val_loss: 0.4737 - val_acc: 0.7640\n",
      "Epoch 45/100\n",
      "100/100 [==============================] - 50s 502ms/step - loss: 0.4842 - acc: 0.7640 - val_loss: 0.4959 - val_acc: 0.7420\n",
      "Epoch 46/100\n",
      "100/100 [==============================] - 50s 501ms/step - loss: 0.4868 - acc: 0.7640 - val_loss: 0.5381 - val_acc: 0.7110\n",
      "Epoch 47/100\n",
      "100/100 [==============================] - 50s 501ms/step - loss: 0.4923 - acc: 0.7595 - val_loss: 0.4993 - val_acc: 0.7470\n",
      "Epoch 48/100\n",
      "100/100 [==============================] - 50s 498ms/step - loss: 0.4592 - acc: 0.7730 - val_loss: 0.5250 - val_acc: 0.7700\n",
      "Epoch 49/100\n",
      "100/100 [==============================] - 50s 498ms/step - loss: 0.4718 - acc: 0.7775 - val_loss: 0.4932 - val_acc: 0.7480\n",
      "Epoch 50/100\n",
      "100/100 [==============================] - 50s 499ms/step - loss: 0.4771 - acc: 0.7700 - val_loss: 0.4707 - val_acc: 0.7830\n",
      "Epoch 51/100\n",
      "100/100 [==============================] - 50s 501ms/step - loss: 0.4718 - acc: 0.7720 - val_loss: 0.4437 - val_acc: 0.7830\n",
      "Epoch 52/100\n",
      "100/100 [==============================] - 50s 500ms/step - loss: 0.4803 - acc: 0.7605 - val_loss: 0.5113 - val_acc: 0.7260\n",
      "Epoch 53/100\n",
      "100/100 [==============================] - 50s 502ms/step - loss: 0.4665 - acc: 0.7730 - val_loss: 0.5218 - val_acc: 0.7280\n",
      "Epoch 54/100\n",
      "100/100 [==============================] - 50s 498ms/step - loss: 0.4784 - acc: 0.7685 - val_loss: 0.4810 - val_acc: 0.7730\n",
      "Epoch 55/100\n",
      "100/100 [==============================] - 50s 499ms/step - loss: 0.4678 - acc: 0.7785 - val_loss: 0.4729 - val_acc: 0.7700\n",
      "Epoch 56/100\n",
      "100/100 [==============================] - 50s 499ms/step - loss: 0.4569 - acc: 0.7855 - val_loss: 0.4622 - val_acc: 0.7910\n",
      "Epoch 57/100\n",
      "100/100 [==============================] - 50s 501ms/step - loss: 0.4832 - acc: 0.7595 - val_loss: 0.4453 - val_acc: 0.7990\n",
      "Epoch 58/100\n",
      "100/100 [==============================] - 50s 502ms/step - loss: 0.4484 - acc: 0.7855 - val_loss: 0.4679 - val_acc: 0.7850\n",
      "Epoch 59/100\n",
      "100/100 [==============================] - 50s 500ms/step - loss: 0.4626 - acc: 0.7760 - val_loss: 0.5564 - val_acc: 0.7380\n",
      "Epoch 60/100\n",
      "100/100 [==============================] - 50s 502ms/step - loss: 0.4604 - acc: 0.7830 - val_loss: 0.4967 - val_acc: 0.7710\n",
      "Epoch 61/100\n",
      "100/100 [==============================] - 50s 499ms/step - loss: 0.4474 - acc: 0.7905 - val_loss: 0.4620 - val_acc: 0.7820\n"
     ]
    },
    {
     "data": {
      "image/png": "[encoded data removed]",
      "text/plain": [
       "<Figure size 576x360 with 1 Axes>"
      ]
     },
     "metadata": {
      "needs_background": "light"
     },
     "output_type": "display_data"
    }
   ],
   "source": [
    "from tensorflow.keras import layers\n",
    "from tensorflow.keras import models\n",
    "model = keras.models.Sequential()\n",
    "model.add(keras.layers.Conv2D(filters =32, kernel_size = (3,3), activation = 'relu', input_shape=(150,150,3)))\n",
    "model.add(keras.layers.MaxPooling2D(2,2))\n",
    "model.add(keras.layers.Conv2D(filters =64, kernel_size = (3,3), activation = 'relu', input_shape=(150,150,3)))\n",
    "model.add(keras.layers.MaxPooling2D(2,2))\n",
    "model.add(keras.layers.Conv2D(filters =128, kernel_size = (3,3), activation = 'relu', input_shape=(150,150,3)))\n",
    "model.add(keras.layers.MaxPooling2D(2,2))\n",
    "model.add(keras.layers.Conv2D(filters =128, kernel_size = (3,3), activation = 'relu', input_shape=(150,150,3)))\n",
    "model.add(keras.layers.MaxPooling2D(2,2))\n",
    "model.add(keras.layers.Flatten())\n",
    "model.add(keras.layers.Dropout(0.5))# to avoid over fitting\n",
    "model.add(keras.layers.Dense(512,activation = 'relu'))\n",
    "model.add(keras.layers.Dense(1,activation = 'sigmoid'))\n",
    "model.summary()\n",
    "from tensorflow.keras import optimizers\n",
    "model.compile(loss= 'binary_crossentropy', optimizer = optimizers.RMSprop(lr=1e-4), metrics = ['acc'])\n",
    "checkpoint_cb = keras.callbacks.ModelCheckpoint('Early_Stop_Best_Model.h5', save_best_only = True)\n",
    "early_stop_cb = keras.callbacks.EarlyStopping(patience =10, restore_best_weights = True)\n",
    "history = model.fit_generator(train_generator, steps_per_epoch =100, epochs = 100, validation_data = validation_generator, validation_steps = 50, callbacks = [checkpoint_cb, early_stop_cb] )\n",
    "del model\n",
    "keras.backend.clear_session()\n",
    "model = keras.models.load_model('Early_Stop_Best_Model.h5')\n",
    "pd.DataFrame(history.history).plot(figsize =(8,5))\n",
    "plt.grid(True)\n",
    "plt.gca().set_ylim(0,1)\n",
    "plt.show()"
   ]
  },
  {
   "cell_type": "code",
   "execution_count": 34,
   "id": "f0712cba",
   "metadata": {
    "ExecuteTime": {
     "end_time": "2021-06-03T11:56:04.713184Z",
     "start_time": "2021-06-03T11:19:08.890056Z"
    }
   },
   "outputs": [
    {
     "name": "stdout",
     "output_type": "stream",
     "text": [
      "Epoch 1/40\n",
      "100/100 [==============================] - 59s 588ms/step - loss: 0.4681 - acc: 0.7710 - val_loss: 0.6520 - val_acc: 0.7140\n",
      "Epoch 2/40\n",
      "100/100 [==============================] - 58s 575ms/step - loss: 0.4619 - acc: 0.7845 - val_loss: 0.4736 - val_acc: 0.7800\n",
      "Epoch 3/40\n",
      "100/100 [==============================] - 55s 550ms/step - loss: 0.4539 - acc: 0.7805 - val_loss: 0.5513 - val_acc: 0.7310\n",
      "Epoch 4/40\n",
      "100/100 [==============================] - 55s 546ms/step - loss: 0.4703 - acc: 0.7790 - val_loss: 0.4942 - val_acc: 0.7750\n",
      "Epoch 5/40\n",
      "100/100 [==============================] - 54s 544ms/step - loss: 0.4506 - acc: 0.7865 - val_loss: 0.5229 - val_acc: 0.7720\n",
      "Epoch 6/40\n",
      "100/100 [==============================] - 60s 597ms/step - loss: 0.4607 - acc: 0.7890 - val_loss: 0.4986 - val_acc: 0.7810\n",
      "Epoch 7/40\n",
      "100/100 [==============================] - 55s 550ms/step - loss: 0.4669 - acc: 0.7830 - val_loss: 0.4591 - val_acc: 0.7840\n",
      "Epoch 8/40\n",
      "100/100 [==============================] - 55s 548ms/step - loss: 0.4630 - acc: 0.7795 - val_loss: 0.4783 - val_acc: 0.7630\n",
      "Epoch 9/40\n",
      "100/100 [==============================] - 53s 526ms/step - loss: 0.4557 - acc: 0.7795 - val_loss: 0.5340 - val_acc: 0.7140\n",
      "Epoch 10/40\n",
      "100/100 [==============================] - 59s 595ms/step - loss: 0.4570 - acc: 0.7900 - val_loss: 0.5131 - val_acc: 0.7610\n",
      "Epoch 11/40\n",
      "100/100 [==============================] - 57s 573ms/step - loss: 0.4469 - acc: 0.7810 - val_loss: 0.5315 - val_acc: 0.7670\n",
      "Epoch 12/40\n",
      "100/100 [==============================] - 53s 526ms/step - loss: 0.4474 - acc: 0.7910 - val_loss: 0.4407 - val_acc: 0.8000\n",
      "Epoch 13/40\n",
      "100/100 [==============================] - 52s 523ms/step - loss: 0.4564 - acc: 0.7805 - val_loss: 0.4838 - val_acc: 0.7790\n",
      "Epoch 14/40\n",
      "100/100 [==============================] - 52s 522ms/step - loss: 0.4563 - acc: 0.7805 - val_loss: 0.4645 - val_acc: 0.7720\n",
      "Epoch 15/40\n",
      "100/100 [==============================] - 55s 550ms/step - loss: 0.4383 - acc: 0.8000 - val_loss: 0.5739 - val_acc: 0.7260\n",
      "Epoch 16/40\n",
      "100/100 [==============================] - 59s 585ms/step - loss: 0.4358 - acc: 0.8000 - val_loss: 0.4618 - val_acc: 0.7600\n",
      "Epoch 17/40\n",
      "100/100 [==============================] - 58s 582ms/step - loss: 0.4433 - acc: 0.7950 - val_loss: 0.4467 - val_acc: 0.7800\n",
      "Epoch 18/40\n",
      "100/100 [==============================] - 53s 528ms/step - loss: 0.4543 - acc: 0.7845 - val_loss: 0.5572 - val_acc: 0.7310\n",
      "Epoch 19/40\n",
      "100/100 [==============================] - 53s 525ms/step - loss: 0.4506 - acc: 0.7880 - val_loss: 0.4625 - val_acc: 0.7950\n",
      "Epoch 20/40\n",
      "100/100 [==============================] - 52s 524ms/step - loss: 0.4385 - acc: 0.7955 - val_loss: 0.4508 - val_acc: 0.7720\n",
      "Epoch 21/40\n",
      "100/100 [==============================] - 53s 526ms/step - loss: 0.4324 - acc: 0.8030 - val_loss: 0.4474 - val_acc: 0.7920\n",
      "Epoch 22/40\n",
      "100/100 [==============================] - 54s 540ms/step - loss: 0.4281 - acc: 0.8065 - val_loss: 0.4304 - val_acc: 0.8090\n",
      "Epoch 23/40\n",
      "100/100 [==============================] - 53s 527ms/step - loss: 0.4297 - acc: 0.8030 - val_loss: 0.4434 - val_acc: 0.7920\n",
      "Epoch 24/40\n",
      "100/100 [==============================] - 61s 614ms/step - loss: 0.4259 - acc: 0.8050 - val_loss: 0.4404 - val_acc: 0.8030\n",
      "Epoch 25/40\n",
      "100/100 [==============================] - 59s 586ms/step - loss: 0.4310 - acc: 0.8050 - val_loss: 0.4886 - val_acc: 0.7640\n",
      "Epoch 26/40\n",
      "100/100 [==============================] - 58s 579ms/step - loss: 0.4230 - acc: 0.8050 - val_loss: 0.4491 - val_acc: 0.7810\n",
      "Epoch 27/40\n",
      "100/100 [==============================] - 61s 607ms/step - loss: 0.4163 - acc: 0.8025 - val_loss: 0.4569 - val_acc: 0.7860\n",
      "Epoch 28/40\n",
      "100/100 [==============================] - 53s 534ms/step - loss: 0.4133 - acc: 0.8085 - val_loss: 0.4488 - val_acc: 0.8020\n",
      "Epoch 29/40\n",
      "100/100 [==============================] - 52s 525ms/step - loss: 0.4066 - acc: 0.7960 - val_loss: 0.4439 - val_acc: 0.7950\n",
      "Epoch 30/40\n",
      "100/100 [==============================] - 52s 523ms/step - loss: 0.4251 - acc: 0.8065 - val_loss: 0.4290 - val_acc: 0.8020\n",
      "Epoch 31/40\n",
      "100/100 [==============================] - 53s 526ms/step - loss: 0.4188 - acc: 0.7985 - val_loss: 0.4428 - val_acc: 0.7800\n",
      "Epoch 32/40\n",
      "100/100 [==============================] - 53s 525ms/step - loss: 0.4219 - acc: 0.8040 - val_loss: 0.4114 - val_acc: 0.8020\n",
      "Epoch 33/40\n",
      "100/100 [==============================] - 53s 527ms/step - loss: 0.4213 - acc: 0.8045 - val_loss: 0.4787 - val_acc: 0.7680\n",
      "Epoch 34/40\n",
      "100/100 [==============================] - 53s 527ms/step - loss: 0.4062 - acc: 0.8195 - val_loss: 0.4975 - val_acc: 0.7710\n",
      "Epoch 35/40\n",
      "100/100 [==============================] - 53s 526ms/step - loss: 0.4123 - acc: 0.8040 - val_loss: 0.4241 - val_acc: 0.8120\n",
      "Epoch 36/40\n",
      "100/100 [==============================] - 52s 524ms/step - loss: 0.4033 - acc: 0.8155 - val_loss: 0.4449 - val_acc: 0.8070\n",
      "Epoch 37/40\n",
      "100/100 [==============================] - 53s 525ms/step - loss: 0.4193 - acc: 0.8150 - val_loss: 0.4672 - val_acc: 0.7620\n",
      "Epoch 38/40\n",
      "100/100 [==============================] - 53s 528ms/step - loss: 0.4108 - acc: 0.8030 - val_loss: 0.4473 - val_acc: 0.7870\n",
      "Epoch 39/40\n",
      "100/100 [==============================] - 53s 527ms/step - loss: 0.4008 - acc: 0.8180 - val_loss: 0.4410 - val_acc: 0.8100\n",
      "Epoch 40/40\n",
      "100/100 [==============================] - 52s 525ms/step - loss: 0.3890 - acc: 0.8145 - val_loss: 0.4354 - val_acc: 0.7950\n"
     ]
    },
    {
     "data": {
      "image/png": "[encoded data removed]",
      "text/plain": [
       "<Figure size 576x360 with 1 Axes>"
      ]
     },
     "metadata": {
      "needs_background": "light"
     },
     "output_type": "display_data"
    }
   ],
   "source": [
    "history = model.fit_generator(train_generator, steps_per_epoch =100, epochs = 40, validation_data = validation_generator, validation_steps = 50)\n",
    "pd.DataFrame(history.history).plot(figsize =(8,5))\n",
    "plt.grid(True)\n",
    "plt.gca().set_ylim(0,1)\n",
    "plt.show()"
   ]
  },
  {
   "cell_type": "code",
   "execution_count": 35,
   "id": "14bc72b1",
   "metadata": {
    "ExecuteTime": {
     "end_time": "2021-06-03T11:56:04.869236Z",
     "start_time": "2021-06-03T11:56:04.796945Z"
    }
   },
   "outputs": [],
   "source": [
    "model.save('CNN_Data_Aug.h5')"
   ]
  },
  {
   "cell_type": "code",
   "execution_count": 36,
   "id": "e3460183",
   "metadata": {
    "ExecuteTime": {
     "end_time": "2021-06-03T12:17:15.092211Z",
     "start_time": "2021-06-03T12:12:47.280752Z"
    }
   },
   "outputs": [
    {
     "name": "stdout",
     "output_type": "stream",
     "text": [
      "Found 2000 images belonging to 2 classes.\n",
      "Found 1000 images belonging to 2 classes.\n",
      "Downloading data from https://storage.googleapis.com/tensorflow/keras-applications/vgg16/vgg16_weights_tf_dim_ordering_tf_kernels_notop.h5\n",
      "58892288/58889256 [==============================] - 265s 5us/step\n",
      "Model: \"vgg16\"\n",
      "_________________________________________________________________\n",
      "Layer (type)                 Output Shape              Param #   \n",
      "=================================================================\n",
      "input_1 (InputLayer)         [(None, 150, 150, 3)]     0         \n",
      "_________________________________________________________________\n",
      "block1_conv1 (Conv2D)        (None, 150, 150, 64)      1792      \n",
      "_________________________________________________________________\n",
      "block1_conv2 (Conv2D)        (None, 150, 150, 64)      36928     \n",
      "_________________________________________________________________\n",
      "block1_pool (MaxPooling2D)   (None, 75, 75, 64)        0         \n",
      "_________________________________________________________________\n",
      "block2_conv1 (Conv2D)        (None, 75, 75, 128)       73856     \n",
      "_________________________________________________________________\n",
      "block2_conv2 (Conv2D)        (None, 75, 75, 128)       147584    \n",
      "_________________________________________________________________\n",
      "block2_pool (MaxPooling2D)   (None, 37, 37, 128)       0         \n",
      "_________________________________________________________________\n",
      "block3_conv1 (Conv2D)        (None, 37, 37, 256)       295168    \n",
      "_________________________________________________________________\n",
      "block3_conv2 (Conv2D)        (None, 37, 37, 256)       590080    \n",
      "_________________________________________________________________\n",
      "block3_conv3 (Conv2D)        (None, 37, 37, 256)       590080    \n",
      "_________________________________________________________________\n",
      "block3_pool (MaxPooling2D)   (None, 18, 18, 256)       0         \n",
      "_________________________________________________________________\n",
      "block4_conv1 (Conv2D)        (None, 18, 18, 512)       1180160   \n",
      "_________________________________________________________________\n",
      "block4_conv2 (Conv2D)        (None, 18, 18, 512)       2359808   \n",
      "_________________________________________________________________\n",
      "block4_conv3 (Conv2D)        (None, 18, 18, 512)       2359808   \n",
      "_________________________________________________________________\n",
      "block4_pool (MaxPooling2D)   (None, 9, 9, 512)         0         \n",
      "_________________________________________________________________\n",
      "block5_conv1 (Conv2D)        (None, 9, 9, 512)         2359808   \n",
      "_________________________________________________________________\n",
      "block5_conv2 (Conv2D)        (None, 9, 9, 512)         2359808   \n",
      "_________________________________________________________________\n",
      "block5_conv3 (Conv2D)        (None, 9, 9, 512)         2359808   \n",
      "_________________________________________________________________\n",
      "block5_pool (MaxPooling2D)   (None, 4, 4, 512)         0         \n",
      "=================================================================\n",
      "Total params: 14,714,688\n",
      "Trainable params: 14,714,688\n",
      "Non-trainable params: 0\n",
      "_________________________________________________________________\n",
      "Model: \"sequential\"\n",
      "_________________________________________________________________\n",
      "Layer (type)                 Output Shape              Param #   \n",
      "=================================================================\n",
      "vgg16 (Functional)           (None, 4, 4, 512)         14714688  \n",
      "_________________________________________________________________\n",
      "flatten (Flatten)            (None, 8192)              0         \n",
      "_________________________________________________________________\n",
      "dense (Dense)                (None, 256)               2097408   \n",
      "_________________________________________________________________\n",
      "dense_1 (Dense)              (None, 1)                 257       \n",
      "=================================================================\n",
      "Total params: 16,812,353\n",
      "Trainable params: 16,812,353\n",
      "Non-trainable params: 0\n",
      "_________________________________________________________________\n"
     ]
    }
   ],
   "source": [
    "from tensorflow.keras.preprocessing.image import ImageDataGenerator\n",
    "train_datagen = ImageDataGenerator(rescale = 1./255, rotation_range = 40, width_shift_range = 0.2, height_shift_range = 0.2, shear_range = 0.2, zoom_range = 0.2, horizontal_flip = True)\n",
    "test_datagen = ImageDataGenerator(rescale = 1./255)\n",
    "train_generator =  train_datagen.flow_from_directory(train_dir,target_size = (150,150), batch_size =20, class_mode = 'binary')\n",
    "validation_generator =  test_datagen.flow_from_directory(validation_dir,target_size = (150,150), batch_size =20, class_mode = 'binary')\n",
    "from tensorflow.keras.applications import VGG16\n",
    "conv_base = VGG16(weights = 'imagenet', include_top = False, input_shape = (150,150,3))\n",
    "conv_base.summary()\n",
    "from tensorflow.keras import layers\n",
    "from tensorflow.keras import models\n",
    "model = keras.models.Sequential()\n",
    "model.add(conv_base)\n",
    "model.add(keras.layers.Flatten())\n",
    "model.add(keras.layers.Dense(256,activation = 'relu'))\n",
    "model.add(keras.layers.Dense(1,activation = 'sigmoid'))\n",
    "model.summary()"
   ]
  },
  {
   "cell_type": "code",
   "execution_count": null,
   "id": "68e8394e",
   "metadata": {
    "ExecuteTime": {
     "start_time": "2021-06-03T12:21:57.828Z"
    }
   },
   "outputs": [
    {
     "name": "stdout",
     "output_type": "stream",
     "text": [
      "Epoch 1/3\n",
      "100/100 [==============================] - ETA: 0s - loss: 0.5017 - acc: 0.7400"
     ]
    }
   ],
   "source": [
    "#not to optimise the weights of VGG16\n",
    "#conv_base.trainable = False\n",
    "from tensorflow.keras import optimizers\n",
    "model.compile(loss= 'binary_crossentropy', optimizer = optimizers.RMSprop(lr=1e-5), metrics = ['acc'])\n",
    "checkpoint_cb = keras.callbacks.ModelCheckpoint('Early_Stop_Best_Model.h5', save_best_only = True)\n",
    "early_stop_cb = keras.callbacks.EarlyStopping(patience =10, restore_best_weights = True)\n",
    "history = model.fit_generator(train_generator, steps_per_epoch =100, epochs = 3, validation_data = validation_generator, validation_steps = 50, callbacks = [checkpoint_cb, early_stop_cb] )\n",
    "del model\n",
    "keras.backend.clear_session()\n",
    "model = keras.models.load_model('Early_Stop_Best_Model.h5')\n",
    "pd.DataFrame(history.history).plot(figsize =(8,5))\n",
    "plt.grid(True)\n",
    "plt.gca().set_ylim(0,1)\n",
    "plt.show()"
   ]
  },
  {
   "cell_type": "code",
   "execution_count": null,
   "id": "a9d80f51",
   "metadata": {},
   "outputs": [],
   "source": []
  }
 ],
 "metadata": {
  "kernelspec": {
   "display_name": "Python 3",
   "language": "python",
   "name": "python3"
  },
  "language_info": {
   "codemirror_mode": {
    "name": "ipython",
    "version": 3
   },
   "file_extension": ".py",
   "mimetype": "text/x-python",
   "name": "python",
   "nbconvert_exporter": "python",
   "pygments_lexer": "ipython3",
   "version": "3.8.8"
  },
  "latex_envs": {
   "LaTeX_envs_menu_present": true,
   "autoclose": false,
   "autocomplete": true,
   "bibliofile": "biblio.bib",
   "cite_by": "apalike",
   "current_citInitial": 1,
   "eqLabelWithNumbers": true,
   "eqNumInitial": 1,
   "hotkeys": {
    "equation": "Ctrl-E",
    "itemize": "Ctrl-I"
   },
   "labels_anchors": false,
   "latex_user_defs": false,
   "report_style_numbering": false,
   "user_envs_cfg": false
  },
  "toc": {
   "base_numbering": 1,
   "nav_menu": {},
   "number_sections": true,
   "sideBar": true,
   "skip_h1_title": false,
   "title_cell": "Table of Contents",
   "title_sidebar": "Contents",
   "toc_cell": false,
   "toc_position": {},
   "toc_section_display": true,
   "toc_window_display": false
  }
 },
 "nbformat": 4,
 "nbformat_minor": 5
}
